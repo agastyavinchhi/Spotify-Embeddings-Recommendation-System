{
 "cells": [
  {
   "cell_type": "code",
   "execution_count": 1,
   "id": "cf76fbf0",
   "metadata": {},
   "outputs": [],
   "source": [
    "import os\n",
    "os.getcwd()\n",
    "import main"
   ]
  },
  {
   "cell_type": "code",
   "execution_count": 2,
   "id": "0869fff9",
   "metadata": {},
   "outputs": [],
   "source": [
    "# main.details_print()"
   ]
  },
  {
   "cell_type": "code",
   "execution_count": 3,
   "id": "40d95d34",
   "metadata": {},
   "outputs": [],
   "source": [
    "# main.generate_token()"
   ]
  },
  {
   "cell_type": "code",
   "execution_count": 4,
   "id": "51e5a74a",
   "metadata": {},
   "outputs": [],
   "source": [
    "# main.get_playlist()"
   ]
  }
 ],
 "metadata": {
  "kernelspec": {
   "display_name": "Python 3 (ipykernel)",
   "language": "python",
   "name": "python3"
  },
  "language_info": {
   "codemirror_mode": {
    "name": "ipython",
    "version": 3
   },
   "file_extension": ".py",
   "mimetype": "text/x-python",
   "name": "python",
   "nbconvert_exporter": "python",
   "pygments_lexer": "ipython3",
   "version": "3.9.7"
  }
 },
 "nbformat": 4,
 "nbformat_minor": 5
}
